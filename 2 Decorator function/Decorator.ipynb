{
 "cells": [
  {
   "cell_type": "markdown",
   "metadata": {},
   "source": [
    "## Decorator Function"
   ]
  },
  {
   "attachments": {
    "image.png": {
     "image/png": "[encoded data removed]"
    }
   },
   "cell_type": "markdown",
   "metadata": {},
   "source": [
    "![image.png](attachment:image.png)"
   ]
  },
  {
   "cell_type": "markdown",
   "metadata": {},
   "source": [
    "### Decorator is used to modify the function behaviour"
   ]
  },
  {
   "cell_type": "markdown",
   "metadata": {},
   "source": [
    "### Create a Welcome decorator to Welcome the user and thank the user in end"
   ]
  },
  {
   "cell_type": "code",
   "execution_count": 3,
   "metadata": {},
   "outputs": [],
   "source": [
    "def welcome(func):\n",
    "    def wrapper(*args, **kwargs):\n",
    "        print(\"Welcome to this function\")\n",
    "        result = func(*args, **kwargs)\n",
    "        print(f'Function Result : {result}')\n",
    "        print('Thank you for using this function')\n",
    "        return result\n",
    "    return wrapper"
   ]
  },
  {
   "cell_type": "markdown",
   "metadata": {},
   "source": [
    "### Implementing decorator"
   ]
  },
  {
   "cell_type": "markdown",
   "metadata": {},
   "source": [
    "@decorator-name"
   ]
  },
  {
   "cell_type": "markdown",
   "metadata": {},
   "source": [
    "def function..."
   ]
  },
  {
   "cell_type": "code",
   "execution_count": 4,
   "metadata": {},
   "outputs": [],
   "source": [
    "@welcome\n",
    "def hypotenuse(a, b):\n",
    "    c = (a**2 + b**2)**(1/2)\n",
    "    return c"
   ]
  },
  {
   "cell_type": "code",
   "execution_count": 5,
   "metadata": {},
   "outputs": [
    {
     "name": "stdout",
     "output_type": "stream",
     "text": [
      "Welcome to this function\n",
      "Function Result : 5.0\n",
      "Thank you for using this function\n"
     ]
    },
    {
     "data": {
      "text/plain": [
       "5.0"
      ]
     },
     "execution_count": 5,
     "metadata": {},
     "output_type": "execute_result"
    }
   ],
   "source": [
    "hypotenuse(3, 4)"
   ]
  },
  {
   "cell_type": "code",
   "execution_count": 6,
   "metadata": {},
   "outputs": [
    {
     "name": "stdout",
     "output_type": "stream",
     "text": [
      "Welcome to this function\n",
      "Function Result : 8.602325267042627\n",
      "Thank you for using this function\n"
     ]
    }
   ],
   "source": [
    "h2 = hypotenuse(5, 7)"
   ]
  },
  {
   "cell_type": "code",
   "execution_count": 7,
   "metadata": {},
   "outputs": [
    {
     "data": {
      "text/plain": [
       "8.602325267042627"
      ]
     },
     "execution_count": 7,
     "metadata": {},
     "output_type": "execute_result"
    }
   ],
   "source": [
    "h2"
   ]
  },
  {
   "cell_type": "code",
   "execution_count": 8,
   "metadata": {},
   "outputs": [],
   "source": [
    "@welcome\n",
    "def get_squares(n):\n",
    "    return n**2"
   ]
  },
  {
   "cell_type": "code",
   "execution_count": 9,
   "metadata": {},
   "outputs": [
    {
     "name": "stdout",
     "output_type": "stream",
     "text": [
      "Welcome to this function\n",
      "Function Result : 529\n",
      "Thank you for using this function\n"
     ]
    },
    {
     "data": {
      "text/plain": [
       "529"
      ]
     },
     "execution_count": 9,
     "metadata": {},
     "output_type": "execute_result"
    }
   ],
   "source": [
    "get_squares(23)"
   ]
  },
  {
   "cell_type": "code",
   "execution_count": 10,
   "metadata": {},
   "outputs": [
    {
     "name": "stdout",
     "output_type": "stream",
     "text": [
      "Welcome to this function\n",
      "Function Result : 144\n",
      "Thank you for using this function\n"
     ]
    }
   ],
   "source": [
    "s = get_squares(12)"
   ]
  },
  {
   "cell_type": "code",
   "execution_count": 11,
   "metadata": {},
   "outputs": [
    {
     "data": {
      "text/plain": [
       "144"
      ]
     },
     "execution_count": 11,
     "metadata": {},
     "output_type": "execute_result"
    }
   ],
   "source": [
    "s"
   ]
  },
  {
   "cell_type": "markdown",
   "metadata": {},
   "source": [
    "### Applying decorator on existing function"
   ]
  },
  {
   "cell_type": "code",
   "execution_count": 12,
   "metadata": {},
   "outputs": [],
   "source": [
    "def simple_interest(P, N, R):\n",
    "    I = (P*N*R)/100\n",
    "    A = P + I\n",
    "    return I, A"
   ]
  },
  {
   "cell_type": "code",
   "execution_count": 13,
   "metadata": {},
   "outputs": [
    {
     "data": {
      "text/plain": [
       "(1950.0, 11950.0)"
      ]
     },
     "execution_count": 13,
     "metadata": {},
     "output_type": "execute_result"
    }
   ],
   "source": [
    "simple_interest(10000, 3, 6.5)"
   ]
  },
  {
   "cell_type": "code",
   "execution_count": 14,
   "metadata": {},
   "outputs": [
    {
     "data": {
      "text/plain": [
       "(9940.0, 44940.0)"
      ]
     },
     "execution_count": 14,
     "metadata": {},
     "output_type": "execute_result"
    }
   ],
   "source": [
    "simple_interest(P=35000, N=4, R=7.1)"
   ]
  },
  {
   "cell_type": "code",
   "execution_count": 15,
   "metadata": {},
   "outputs": [],
   "source": [
    "@welcome\n",
    "def si_decorator(P, N, R):\n",
    "    return simple_interest(P, N, R)"
   ]
  },
  {
   "cell_type": "code",
   "execution_count": 16,
   "metadata": {},
   "outputs": [
    {
     "name": "stdout",
     "output_type": "stream",
     "text": [
      "Welcome to this function\n",
      "Function Result : (10125.0, 55125.0)\n",
      "Thank you for using this function\n"
     ]
    },
    {
     "data": {
      "text/plain": [
       "(10125.0, 55125.0)"
      ]
     },
     "execution_count": 16,
     "metadata": {},
     "output_type": "execute_result"
    }
   ],
   "source": [
    "si_decorator(45000, 3, 7.5)"
   ]
  },
  {
   "cell_type": "code",
   "execution_count": 17,
   "metadata": {},
   "outputs": [
    {
     "name": "stdout",
     "output_type": "stream",
     "text": [
      "Welcome to this function\n",
      "Function Result : (22400.0, 78400.0)\n",
      "Thank you for using this function\n"
     ]
    },
    {
     "data": {
      "text/plain": [
       "(22400.0, 78400.0)"
      ]
     },
     "execution_count": 17,
     "metadata": {},
     "output_type": "execute_result"
    }
   ],
   "source": [
    "si_decorator(P=56000, R=8, N=5)"
   ]
  },
  {
   "cell_type": "markdown",
   "metadata": {},
   "source": [
    "### Time Decorator to calculate time required for completion of a code"
   ]
  },
  {
   "cell_type": "code",
   "execution_count": 18,
   "metadata": {},
   "outputs": [],
   "source": [
    "import time"
   ]
  },
  {
   "cell_type": "code",
   "execution_count": 19,
   "metadata": {},
   "outputs": [
    {
     "name": "stdout",
     "output_type": "stream",
     "text": [
      "Hello World\n"
     ]
    }
   ],
   "source": [
    "time.sleep(3)\n",
    "print(\"Hello World\")"
   ]
  },
  {
   "cell_type": "code",
   "execution_count": 20,
   "metadata": {},
   "outputs": [
    {
     "name": "stdout",
     "output_type": "stream",
     "text": [
      "ETLHive\n",
      "Time required to execute this code : 4.00 seconds\n"
     ]
    }
   ],
   "source": [
    "t_start = time.time()\n",
    "time.sleep(4)\n",
    "print(\"ETLHive\")\n",
    "t_stop = time.time()\n",
    "t = t_stop - t_start\n",
    "print(f\"Time required to execute this code : {t:.2f} seconds\")"
   ]
  },
  {
   "cell_type": "code",
   "execution_count": 24,
   "metadata": {},
   "outputs": [],
   "source": [
    "def time_decorator(func):\n",
    "    def wrapper(*args, **kwargs):\n",
    "        t_start = time.time()\n",
    "        result = func(*args, **kwargs)\n",
    "        print(f'Function Results : {result}')\n",
    "        t_stop = time.time()\n",
    "        t = t_stop - t_start\n",
    "        print(f'Time required to execute this function is {t:.2f} seconds')\n",
    "        return result\n",
    "    return wrapper"
   ]
  },
  {
   "cell_type": "code",
   "execution_count": 25,
   "metadata": {},
   "outputs": [],
   "source": [
    "@time_decorator\n",
    "def print_multiple(s, time_delay, num):\n",
    "    for i in range(num):\n",
    "        time.sleep(time_delay)\n",
    "        print(s)"
   ]
  },
  {
   "cell_type": "code",
   "execution_count": 26,
   "metadata": {},
   "outputs": [
    {
     "name": "stdout",
     "output_type": "stream",
     "text": [
      "Etlhive\n",
      "Etlhive\n",
      "Etlhive\n",
      "Etlhive\n",
      "Etlhive\n",
      "Etlhive\n",
      "Etlhive\n",
      "Etlhive\n",
      "Etlhive\n",
      "Etlhive\n",
      "Function Results : None\n",
      "Time required to execute this function is 15.01 seconds\n"
     ]
    }
   ],
   "source": [
    "print_multiple(s=\"Etlhive\", time_delay=1.5, num=10)"
   ]
  },
  {
   "cell_type": "markdown",
   "metadata": {},
   "source": [
    "### User Authentication"
   ]
  },
  {
   "cell_type": "markdown",
   "metadata": {},
   "source": [
    "You want to verify username and password for a given user"
   ]
  },
  {
   "cell_type": "code",
   "execution_count": 27,
   "metadata": {},
   "outputs": [],
   "source": [
    "USERS = {\n",
    "    \"saurabh13\" : \"Password@1234\",\n",
    "    \"vijay10\" : \"Example#4567\",\n",
    "    \"foolish23\" : \"Etlhive$9876\"\n",
    "}"
   ]
  },
  {
   "cell_type": "code",
   "execution_count": 28,
   "metadata": {},
   "outputs": [
    {
     "data": {
      "text/plain": [
       "dict_keys(['saurabh13', 'vijay10', 'foolish23'])"
      ]
     },
     "execution_count": 28,
     "metadata": {},
     "output_type": "execute_result"
    }
   ],
   "source": [
    "USERS.keys()"
   ]
  },
  {
   "cell_type": "code",
   "execution_count": 29,
   "metadata": {},
   "outputs": [
    {
     "data": {
      "text/plain": [
       "'Password@1234'"
      ]
     },
     "execution_count": 29,
     "metadata": {},
     "output_type": "execute_result"
    }
   ],
   "source": [
    "USERS.get(\"saurabh13\")"
   ]
  },
  {
   "cell_type": "code",
   "execution_count": 30,
   "metadata": {},
   "outputs": [],
   "source": [
    "def authenicator(func):\n",
    "    def wrapper (username, password, *args, **kwargs):\n",
    "        if (username in USERS.keys()) and (password == USERS.get(username)):\n",
    "            print(f'Login Successful, Welcome {username}')\n",
    "            results = func(username , password, *args, **kwargs)\n",
    "            print(f'Function results : {results}')\n",
    "            return results\n",
    "        else:\n",
    "            print('Login failed, Please check your username and password')\n",
    "    return wrapper"
   ]
  },
  {
   "cell_type": "code",
   "execution_count": 31,
   "metadata": {},
   "outputs": [],
   "source": [
    "@authenicator\n",
    "def compound_interest(username, password, P, N, R):\n",
    "    A = P*(1+(R/100))**N\n",
    "    I = A - P\n",
    "    return I, A"
   ]
  },
  {
   "cell_type": "code",
   "execution_count": 32,
   "metadata": {},
   "outputs": [
    {
     "name": "stdout",
     "output_type": "stream",
     "text": [
      "Login failed, Please check your username and password\n"
     ]
    }
   ],
   "source": [
    "compound_interest(\n",
    "    username=\"random123\",\n",
    "    password=\"random\",\n",
    "    P = 45000,\n",
    "    N = 5,\n",
    "    R = 6.5\n",
    ")"
   ]
  },
  {
   "cell_type": "code",
   "execution_count": 33,
   "metadata": {},
   "outputs": [
    {
     "name": "stdout",
     "output_type": "stream",
     "text": [
      "Login failed, Please check your username and password\n"
     ]
    }
   ],
   "source": [
    "compound_interest(\n",
    "    username=\"aurabh123\",\n",
    "    password=\"Example#4567\",\n",
    "    P = 45000,\n",
    "    N = 5,\n",
    "    R = 6.5\n",
    ")"
   ]
  },
  {
   "cell_type": "code",
   "execution_count": 35,
   "metadata": {},
   "outputs": [
    {
     "name": "stdout",
     "output_type": "stream",
     "text": [
      "Login Successful, Welcome saurabh13\n",
      "Function results : (16653.899853703108, 61653.89985370311)\n"
     ]
    },
    {
     "data": {
      "text/plain": [
       "(16653.899853703108, 61653.89985370311)"
      ]
     },
     "execution_count": 35,
     "metadata": {},
     "output_type": "execute_result"
    }
   ],
   "source": [
    "compound_interest(\n",
    "    username=\"saurabh13\",\n",
    "    password=\"Password@1234\",\n",
    "    P = 45000,\n",
    "    N = 5,\n",
    "    R = 6.5\n",
    ")"
   ]
  },
  {
   "cell_type": "code",
   "execution_count": 36,
   "metadata": {},
   "outputs": [
    {
     "name": "stdout",
     "output_type": "stream",
     "text": [
      "Login Successful, Welcome vijay10\n",
      "Function results : (17995.074173816975, 74995.07417381697)\n"
     ]
    },
    {
     "data": {
      "text/plain": [
       "(17995.074173816975, 74995.07417381697)"
      ]
     },
     "execution_count": 36,
     "metadata": {},
     "output_type": "execute_result"
    }
   ],
   "source": [
    "compound_interest(\n",
    "    username=\"vijay10\",\n",
    "    password=\"Example#4567\",\n",
    "    P = 57000,\n",
    "    N = 4,\n",
    "    R = 7.1\n",
    ")"
   ]
  },
  {
   "cell_type": "code",
   "execution_count": 37,
   "metadata": {},
   "outputs": [
    {
     "name": "stdout",
     "output_type": "stream",
     "text": [
      "Login Successful, Welcome foolish23\n",
      "Function results : (48540.05027700742, 116540.05027700742)\n"
     ]
    },
    {
     "data": {
      "text/plain": [
       "(48540.05027700742, 116540.05027700742)"
      ]
     },
     "execution_count": 37,
     "metadata": {},
     "output_type": "execute_result"
    }
   ],
   "source": [
    "compound_interest(\n",
    "    username=\"foolish23\",\n",
    "    password=\"Etlhive$9876\",\n",
    "    P = 68000,\n",
    "    N = 7,\n",
    "    R = 8\n",
    ")"
   ]
  }
 ],
 "metadata": {
  "kernelspec": {
   "display_name": "venv",
   "language": "python",
   "name": "python3"
  },
  "language_info": {
   "codemirror_mode": {
    "name": "ipython",
    "version": 3
   },
   "file_extension": ".py",
   "mimetype": "text/x-python",
   "name": "python",
   "nbconvert_exporter": "python",
   "pygments_lexer": "ipython3",
   "version": "3.12.4"
  }
 },
 "nbformat": 4,
 "nbformat_minor": 2
}
